{
 "cells": [
  {
   "cell_type": "code",
   "execution_count": 1,
   "metadata": {},
   "outputs": [
    {
     "name": "stdout",
     "output_type": "stream",
     "text": [
      "Tuple 1: \n",
      "(0, 1, 2, 3, 4, 5, 6, 7, 8, 9)\n",
      "\n",
      "Tuple2: \n",
      "('reetu', 'sakshi', 'priti')\n",
      "\n",
      "Tuples after Concatenaton: \n",
      "(0, 1, 2, 3, 4, 5, 6, 7, 8, 9, 'reetu', 'sakshi', 'priti')\n",
      "Removal of First Element: \n",
      "(1, 2, 3, 4, 5, 6, 7, 8, 9)\n",
      "\n",
      "Tuple after sequence of Element is reversed: \n",
      "(9, 8, 7, 6, 5, 4, 3, 2, 1, 0)\n",
      "\n",
      "Printing elements between Range 4-9: \n",
      "(4, 5, 6, 7, 8)\n"
     ]
    }
   ],
   "source": [
    "import tuples"
   ]
  },
  {
   "cell_type": "code",
   "execution_count": null,
   "metadata": {},
   "outputs": [],
   "source": []
  }
 ],
 "metadata": {
  "kernelspec": {
   "display_name": "Python 3",
   "language": "python",
   "name": "python3"
  },
  "language_info": {
   "codemirror_mode": {
    "name": "ipython",
    "version": 3
   },
   "file_extension": ".py",
   "mimetype": "text/x-python",
   "name": "python",
   "nbconvert_exporter": "python",
   "pygments_lexer": "ipython3",
   "version": "3.8.5"
  }
 },
 "nbformat": 4,
 "nbformat_minor": 4
}

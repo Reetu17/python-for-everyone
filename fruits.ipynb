{
 "cells": [
  {
   "cell_type": "code",
   "execution_count": 1,
   "metadata": {},
   "outputs": [
    {
     "name": "stdout",
     "output_type": "stream",
     "text": [
      "papaya\n",
      "orange\n",
      "grapes\n",
      "['papaya', 'apple', 'orange', 'banana', 'grapes', 'litchi']\n",
      "['papaya', 'apple', 'orange', 'banana', 'grapes', 'litchi', 'chickoo', 'custard apple']\n",
      "['papaya', 'apple', 'banana', 'grapes', 'litchi', 'chickoo', 'custard apple']\n",
      "e\n",
      "9\n"
     ]
    }
   ],
   "source": [
    "import fruits"
   ]
  },
  {
   "cell_type": "code",
   "execution_count": null,
   "metadata": {},
   "outputs": [],
   "source": []
  }
 ],
 "metadata": {
  "kernelspec": {
   "display_name": "Python 3",
   "language": "python",
   "name": "python3"
  },
  "language_info": {
   "codemirror_mode": {
    "name": "ipython",
    "version": 3
   },
   "file_extension": ".py",
   "mimetype": "text/x-python",
   "name": "python",
   "nbconvert_exporter": "python",
   "pygments_lexer": "ipython3",
   "version": "3.8.5"
  }
 },
 "nbformat": 4,
 "nbformat_minor": 4
}

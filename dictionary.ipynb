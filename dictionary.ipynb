{
 "cells": [
  {
   "cell_type": "code",
   "execution_count": 1,
   "metadata": {},
   "outputs": [
    {
     "name": "stdout",
     "output_type": "stream",
     "text": [
      "\n",
      "Dictionary values are: \n",
      "{1: 'reetu', 2: 'sakshi', 3: 'priti'}\n",
      "\n",
      "Dictionary after adding 3 elements: \n",
      "{1: 'reetu', 2: 'sakshi', 3: 'priti', 'Value_set': (2, 3, 4)}\n",
      "\n",
      "Updated key value: \n",
      "{1: 'reetu', 2: 'Welcome', 3: 'priti', 'Value_set': (2, 3, 4)}\n",
      "\n",
      "Deleting a specific key: \n",
      "{1: 'reetu', 3: 'priti', 'Value_set': (2, 3, 4)}\n"
     ]
    }
   ],
   "source": [
    "import dictionary"
   ]
  },
  {
   "cell_type": "code",
   "execution_count": null,
   "metadata": {},
   "outputs": [],
   "source": []
  }
 ],
 "metadata": {
  "kernelspec": {
   "display_name": "Python 3",
   "language": "python",
   "name": "python3"
  },
  "language_info": {
   "codemirror_mode": {
    "name": "ipython",
    "version": 3
   },
   "file_extension": ".py",
   "mimetype": "text/x-python",
   "name": "python",
   "nbconvert_exporter": "python",
   "pygments_lexer": "ipython3",
   "version": "3.8.5"
  }
 },
 "nbformat": 4,
 "nbformat_minor": 4
}
